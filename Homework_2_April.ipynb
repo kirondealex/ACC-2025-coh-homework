{
  "nbformat": 4,
  "nbformat_minor": 0,
  "metadata": {
    "colab": {
      "provenance": [],
      "authorship_tag": "ABX9TyMY3EeCdlBhT4pLJgi5dcG8",
      "include_colab_link": true
    },
    "kernelspec": {
      "name": "python3",
      "display_name": "Python 3"
    },
    "language_info": {
      "name": "python"
    }
  },
  "cells": [
    {
      "cell_type": "markdown",
      "metadata": {
        "id": "view-in-github",
        "colab_type": "text"
      },
      "source": [
        "<a href=\"https://colab.research.google.com/github/kirondealex/ACC-2025-coh-homework/blob/main/Homework_2_April.ipynb\" target=\"_parent\"><img src=\"https://colab.research.google.com/assets/colab-badge.svg\" alt=\"Open In Colab\"/></a>"
      ]
    },
    {
      "cell_type": "code",
      "source": [
        "# 1.Sort the items\n",
        "nums =[10,4,6,2,7,1,9,0]\n",
        "nums.sort()\n",
        "print(nums)"
      ],
      "metadata": {
        "colab": {
          "base_uri": "https://localhost:8080/"
        },
        "id": "n5DSJr49LcS1",
        "outputId": "25a62ed2-1ea6-4fb9-f0d5-cd1134b4e475"
      },
      "execution_count": 1,
      "outputs": [
        {
          "output_type": "stream",
          "name": "stdout",
          "text": [
            "[0, 1, 2, 4, 6, 7, 9, 10]\n"
          ]
        }
      ]
    },
    {
      "cell_type": "code",
      "source": [
        "# 2.Reverse the items\n",
        "My_list = [10, 4, [2, 6, 'me', 7], 12, 0]\n",
        "My_list.reverse()\n",
        "print(My_list)\n"
      ],
      "metadata": {
        "colab": {
          "base_uri": "https://localhost:8080/"
        },
        "id": "xneUZtGWMuMO",
        "outputId": "566c13f6-00e1-4a6d-d0f4-4aec08551a06"
      },
      "execution_count": 2,
      "outputs": [
        {
          "output_type": "stream",
          "name": "stdout",
          "text": [
            "[0, 12, [2, 6, 'me', 7], 4, 10]\n"
          ]
        }
      ]
    },
    {
      "cell_type": "code",
      "source": [
        "# 3.Use index to select 0 from the list\n",
        "My_list = [0, 12, [7, 'me', 6, 2], 4, 10]\n",
        "selected_item = My_list[0]\n",
        "print(selected_item)\n"
      ],
      "metadata": {
        "colab": {
          "base_uri": "https://localhost:8080/"
        },
        "id": "5HhlQRKwNyNc",
        "outputId": "de8fbc63-b061-4d27-c69e-ab917a16049a"
      },
      "execution_count": 3,
      "outputs": [
        {
          "output_type": "stream",
          "name": "stdout",
          "text": [
            "0\n"
          ]
        }
      ]
    },
    {
      "cell_type": "code",
      "source": [
        "# 4.Use index to select 'me' from the list\n",
        "My_list = [0, 12, [7, 'me', 6, 2], 4, 10]\n",
        "selected_item = My_list[2][1]\n",
        "print(selected_item)\n"
      ],
      "metadata": {
        "colab": {
          "base_uri": "https://localhost:8080/"
        },
        "id": "tDluQbEtN_lU",
        "outputId": "1076d88c-c2d5-4ac1-bf6c-8f05f7dc4c4e"
      },
      "execution_count": 5,
      "outputs": [
        {
          "output_type": "stream",
          "name": "stdout",
          "text": [
            "me\n"
          ]
        }
      ]
    }
  ]
}