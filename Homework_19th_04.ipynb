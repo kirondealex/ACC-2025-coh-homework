{
  "nbformat": 4,
  "nbformat_minor": 0,
  "metadata": {
    "colab": {
      "provenance": [],
      "authorship_tag": "ABX9TyMqz7qjxqxxgbWFWwrY71Ba",
      "include_colab_link": true
    },
    "kernelspec": {
      "name": "python3",
      "display_name": "Python 3"
    },
    "language_info": {
      "name": "python"
    }
  },
  "cells": [
    {
      "cell_type": "markdown",
      "metadata": {
        "id": "view-in-github",
        "colab_type": "text"
      },
      "source": [
        "<a href=\"https://colab.research.google.com/github/kirondealex/ACC-2025-coh-homework/blob/main/Homework_19th_04.ipynb\" target=\"_parent\"><img src=\"https://colab.research.google.com/assets/colab-badge.svg\" alt=\"Open In Colab\"/></a>"
      ]
    },
    {
      "cell_type": "code",
      "execution_count": null,
      "metadata": {
        "id": "ctlsSOVc2vS0"
      },
      "outputs": [],
      "source": [
        "Home work\n",
        "# Home work\n",
        "nums = [10,4,6,2,7,1,9,0]\n",
        "# 1. Sort the items and show results\n",
        "nums.sort()\n",
        "print(nums)\n",
        "\n",
        "# 2. Reverse the items and show results\n",
        "My_list =[10,4,[2,6,'me',7],12,0]\n",
        "My_list.reverse()\n",
        "print(My_list)\n",
        "\n",
        "# 3. Use index to select 0 from the list\n",
        "print(nums[0]) # or print(My_list[4]) if you want the 0 from My_list"
      ]
    },
    {
      "cell_type": "code",
      "source": [
        "# 1.Sortthe items and show results\n",
        "nums = [10,4,6,2,7,1,9,0]\n",
        "nums.sort()\n",
        "print(nums)"
      ],
      "metadata": {
        "colab": {
          "base_uri": "https://localhost:8080/"
        },
        "id": "ttXuhAo33VT7",
        "outputId": "57f09f4d-2007-44f8-cc0c-b025690f2d87"
      },
      "execution_count": null,
      "outputs": [
        {
          "output_type": "stream",
          "name": "stdout",
          "text": [
            "[0, 1, 2, 4, 6, 7, 9, 10]\n"
          ]
        }
      ]
    },
    {
      "cell_type": "code",
      "source": [
        "# 2. Reverse the items and show results\n",
        "My_list =[10,4,[2,6,'me',7],12,0]\n",
        "My_list.reverse()\n",
        "print(My_list)"
      ],
      "metadata": {
        "colab": {
          "base_uri": "https://localhost:8080/"
        },
        "id": "P1kFdaks5RlQ",
        "outputId": "a4a4a547-9970-430b-daf8-85d349a5a27a"
      },
      "execution_count": null,
      "outputs": [
        {
          "output_type": "stream",
          "name": "stdout",
          "text": [
            "[0, 12, [2, 6, 'me', 7], 4, 10]\n"
          ]
        }
      ]
    },
    {
      "cell_type": "code",
      "source": [
        "\t# 3.Use index to select 0 from the list\n",
        "My_list =[10,4,[2,6,'me',7],12,0]\n",
        "print(My_list[My_list.index(0)])"
      ],
      "metadata": {
        "colab": {
          "base_uri": "https://localhost:8080/"
        },
        "id": "YRLo5E7QD_kQ",
        "outputId": "c19e527b-3e0f-4121-a372-72b27a293da9"
      },
      "execution_count": null,
      "outputs": [
        {
          "output_type": "stream",
          "name": "stdout",
          "text": [
            "0\n"
          ]
        }
      ]
    },
    {
      "cell_type": "code",
      "source": [
        "# 4.Use index to select “me” from the list\n",
        "print(My_list[2][2])"
      ],
      "metadata": {
        "colab": {
          "base_uri": "https://localhost:8080/"
        },
        "id": "TkfUyHqrE0oc",
        "outputId": "ad30d079-aac1-4929-ccfa-8cf8e953aaaa"
      },
      "execution_count": null,
      "outputs": [
        {
          "output_type": "stream",
          "name": "stdout",
          "text": [
            "me\n"
          ]
        }
      ]
    }
  ]
}