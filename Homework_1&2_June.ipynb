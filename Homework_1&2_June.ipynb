{
  "cells": [
    {
      "cell_type": "markdown",
      "metadata": {
        "id": "view-in-github",
        "colab_type": "text"
      },
      "source": [
        "<a href=\"https://colab.research.google.com/github/kirondealex/ACC-2025-coh-homework/blob/main/Homework_1%262_June.ipynb\" target=\"_parent\"><img src=\"https://colab.research.google.com/assets/colab-badge.svg\" alt=\"Open In Colab\"/></a>"
      ]
    },
    {
      "cell_type": "code",
      "source": [],
      "metadata": {
        "id": "hR5KPXsuh8dP"
      },
      "execution_count": null,
      "outputs": []
    },
    {
      "cell_type": "code",
      "source": [],
      "metadata": {
        "id": "YlbVA3Yzg50v"
      },
      "execution_count": null,
      "outputs": []
    },
    {
      "cell_type": "code",
      "source": [
        "#Create a function that takes a string and returns a hash tag of that string.\n",
        "def spaced_hashtag(text):\n",
        "    return \"#\" + text.replace(\" \", \"\")\n",
        "\n",
        "print(spaced_hashtag(\"This is amazing\"))"
      ],
      "metadata": {
        "colab": {
          "base_uri": "https://localhost:8080/"
        },
        "id": "VTgVPSnZnn81",
        "outputId": "15b5892a-8a13-433e-820a-215b33864d20"
      },
      "execution_count": null,
      "outputs": [
        {
          "output_type": "stream",
          "name": "stdout",
          "text": [
            "#Thisisamazing\n"
          ]
        }
      ]
    },
    {
      "cell_type": "code",
      "source": [
        "def sort_characters(text):\n",
        "    sorted_text = ''.join(sorted(text))\n",
        "    return sorted_text\n"
      ],
      "metadata": {
        "id": "4HMUoNyssvHi"
      },
      "execution_count": null,
      "outputs": []
    },
    {
      "cell_type": "code",
      "source": [
        "#1. Write a Function that sorts the characters in a string\n",
        "\n",
        "def sort_string(s):\n",
        "    return ''.join(sorted(s))\n",
        "\n",
        "print(sort_string(\"hello\"))\n"
      ],
      "metadata": {
        "colab": {
          "base_uri": "https://localhost:8080/"
        },
        "id": "qL_VtD-xbT-d",
        "outputId": "3ef3fbad-fa38-4cc6-a402-04438973c9f4"
      },
      "execution_count": 6,
      "outputs": [
        {
          "output_type": "stream",
          "name": "stdout",
          "text": [
            "ehllo\n"
          ]
        }
      ]
    },
    {
      "cell_type": "code",
      "source": [
        "#2. Write a Function that  removes duplicate characters from a string\n",
        "def remove_duplicates(s):\n",
        "    return ''.join(sorted(set(s), key=s.index))\n",
        "\n",
        "print(remove_duplicates(\"hello\"))\n"
      ],
      "metadata": {
        "colab": {
          "base_uri": "https://localhost:8080/"
        },
        "id": "PhC5K65zcNhM",
        "outputId": "e167c7a8-3821-46ab-bf12-d7e399cee95e"
      },
      "execution_count": 1,
      "outputs": [
        {
          "output_type": "stream",
          "name": "stdout",
          "text": [
            "helo\n"
          ]
        }
      ]
    },
    {
      "cell_type": "code",
      "source": [
        "#3. Write a Function that lists unique characters with their count in a string\n",
        "from collections import Counter\n",
        "\n",
        "def unique_characters_with_count(s):\n",
        "    return dict(Counter(s))\n",
        "\n",
        "print(unique_characters_with_count(\"hello\"))\n"
      ],
      "metadata": {
        "colab": {
          "base_uri": "https://localhost:8080/"
        },
        "id": "ub7E-LFcclQs",
        "outputId": "6fb7736f-d440-453b-a631-ab422b56e394"
      },
      "execution_count": 2,
      "outputs": [
        {
          "output_type": "stream",
          "name": "stdout",
          "text": [
            "{'h': 1, 'e': 1, 'l': 2, 'o': 1}\n"
          ]
        }
      ]
    },
    {
      "cell_type": "code",
      "source": [
        "#4. Write a Function that finds the number of words in a string\n",
        "def count_words(s):\n",
        "    return len(s.split())\n",
        "\n",
        "print(count_words(\"hello world\"))\n"
      ],
      "metadata": {
        "colab": {
          "base_uri": "https://localhost:8080/"
        },
        "id": "n3XWC5sldVXy",
        "outputId": "230c8bee-1279-4247-8a6d-f1454ea16640"
      },
      "execution_count": 3,
      "outputs": [
        {
          "output_type": "stream",
          "name": "stdout",
          "text": [
            "2\n"
          ]
        }
      ]
    },
    {
      "cell_type": "code",
      "source": [
        "#5. Function that removes all non-alphabetic characters from a string\n",
        "import re\n",
        "\n",
        "def remove_non_alphabetic(s):\n",
        "    return re.sub(r'[^a-zA-Z]', '', s)\n",
        "\n",
        "print(remove_non_alphabetic(\"hello, world!\"))"
      ],
      "metadata": {
        "colab": {
          "base_uri": "https://localhost:8080/"
        },
        "id": "LCjsMBGpdn0_",
        "outputId": "c4e4ab98-6841-4d9e-b27f-e79babbf6760"
      },
      "execution_count": 5,
      "outputs": [
        {
          "output_type": "stream",
          "name": "stdout",
          "text": [
            "helloworld\n"
          ]
        }
      ]
    }
  ],
  "metadata": {
    "colab": {
      "provenance": [],
      "authorship_tag": "ABX9TyMsPOgsOrz9KHyrnICHJ8or",
      "include_colab_link": true
    },
    "kernelspec": {
      "display_name": "Python 3",
      "name": "python3"
    },
    "language_info": {
      "name": "python"
    }
  },
  "nbformat": 4,
  "nbformat_minor": 0
}