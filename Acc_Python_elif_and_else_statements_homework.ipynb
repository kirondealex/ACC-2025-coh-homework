{
  "cells": [
    {
      "cell_type": "markdown",
      "metadata": {
        "id": "view-in-github",
        "colab_type": "text"
      },
      "source": [
        "<a href=\"https://colab.research.google.com/github/kirondealex/ACC-2025-coh-homework/blob/main/Acc_Python_elif_and_else_statements_homework.ipynb\" target=\"_parent\"><img src=\"https://colab.research.google.com/assets/colab-badge.svg\" alt=\"Open In Colab\"/></a>"
      ]
    },
    {
      "cell_type": "code",
      "source": [
        "# Creating a variable called Alex\n",
        "Alex = 85\n",
        "\n",
        "# Grading logic\n",
        "if Alex > 90:\n",
        "    print(\"Grade: A\")\n",
        "elif Alex >= 80 and Alex <= 89:\n",
        "    print(\"Grade: B\")\n",
        "elif Alex >= 70 and Alex <= 79:\n",
        "    print(\"Grade: C\")\n",
        "elif Alex >= 60 and Alex <= 69:\n",
        "    print(\"Grade: D\")\n",
        "elif Alex < 60 and Alex >= 0:\n",
        "    print(\"Grade: FAIL\")\n",
        "else:\n",
        "    print(\"Invalid mark\")\n"
      ],
      "metadata": {
        "colab": {
          "base_uri": "https://localhost:8080/"
        },
        "id": "YQotC9-SIJ8l",
        "outputId": "bcf26a1f-ef4f-4c6f-b687-640ce269735d"
      },
      "execution_count": 6,
      "outputs": [
        {
          "output_type": "stream",
          "name": "stdout",
          "text": [
            "Grade: B\n"
          ]
        }
      ]
    }
  ],
  "metadata": {
    "colab": {
      "provenance": [],
      "authorship_tag": "ABX9TyMsg1VGQl1SzOzRIZeIk8J/",
      "include_colab_link": true
    },
    "kernelspec": {
      "display_name": "Python 3",
      "name": "python3"
    },
    "language_info": {
      "name": "python"
    }
  },
  "nbformat": 4,
  "nbformat_minor": 0
}