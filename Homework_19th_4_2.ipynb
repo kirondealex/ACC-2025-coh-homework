{
  "nbformat": 4,
  "nbformat_minor": 0,
  "metadata": {
    "colab": {
      "provenance": [],
      "authorship_tag": "ABX9TyN6mmV2cB+0m2FpFJxJ30aO",
      "include_colab_link": true
    },
    "kernelspec": {
      "name": "python3",
      "display_name": "Python 3"
    },
    "language_info": {
      "name": "python"
    }
  },
  "cells": [
    {
      "cell_type": "markdown",
      "metadata": {
        "id": "view-in-github",
        "colab_type": "text"
      },
      "source": [
        "<a href=\"https://colab.research.google.com/github/kirondealex/ACC-2025-coh-homework/blob/main/Homework_19th_4_2.ipynb\" target=\"_parent\"><img src=\"https://colab.research.google.com/assets/colab-badge.svg\" alt=\"Open In Colab\"/></a>"
      ]
    },
    {
      "cell_type": "code",
      "execution_count": 8,
      "metadata": {
        "colab": {
          "base_uri": "https://localhost:8080/"
        },
        "id": "Nl7-Z5iCjnA8",
        "outputId": "d9f385ed-d6dc-4eac-8f69-b9ae0c5b505b"
      },
      "outputs": [
        {
          "output_type": "stream",
          "name": "stdout",
          "text": [
            "(50, 40, 30, 20, 10)\n"
          ]
        }
      ],
      "source": [
        "# 1.\tReverse the tuple\n",
        "tuple1 = (10, 20, 30, 40, 50)\n",
        "reversed_tuple = tuple(reversed(tuple1))\n",
        "print(reversed_tuple)\n",
        "\n"
      ]
    },
    {
      "cell_type": "code",
      "source": [
        "# 2.\tCreate a tuple with single item 50\n",
        "single_item_tuple = (50,)\n",
        "print(single_item_tuple)\n",
        "\n"
      ],
      "metadata": {
        "colab": {
          "base_uri": "https://localhost:8080/"
        },
        "id": "WJxSY2P3lYN9",
        "outputId": "76458e12-fb7a-43ad-c870-fc3151cfb0ae"
      },
      "execution_count": 9,
      "outputs": [
        {
          "output_type": "stream",
          "name": "stdout",
          "text": [
            "(50,)\n"
          ]
        }
      ]
    },
    {
      "cell_type": "code",
      "source": [
        "# 3.Counts the number of occurrences of item 50 from a tuple\n",
        "tuple1 = (50, 10, 60, 70, 50)\n",
        "\n",
        "count_50 = tuple1.count(50)\n",
        "print(count_50)\n",
        "\n"
      ],
      "metadata": {
        "colab": {
          "base_uri": "https://localhost:8080/"
        },
        "id": "b2MmMjA1l-Nf",
        "outputId": "90f42092-1478-4616-e826-8b16678031a8"
      },
      "execution_count": 11,
      "outputs": [
        {
          "output_type": "stream",
          "name": "stdout",
          "text": [
            "2\n"
          ]
        }
      ]
    },
    {
      "cell_type": "code",
      "source": [
        "# 4.Check if all items in the tuple are the same\n",
        "tuple1 = (45, 45, 45, 45)\n",
        "\n",
        "all_same = len(set(tuple1)) == 1\n",
        "print(all_same)\n"
      ],
      "metadata": {
        "colab": {
          "base_uri": "https://localhost:8080/"
        },
        "id": "SoErsqrmmWcf",
        "outputId": "2fa32d78-301d-4100-9750-f598214ad95f"
      },
      "execution_count": 12,
      "outputs": [
        {
          "output_type": "stream",
          "name": "stdout",
          "text": [
            "True\n"
          ]
        }
      ]
    }
  ]
}