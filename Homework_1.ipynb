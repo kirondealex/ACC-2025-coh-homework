{
  "nbformat": 4,
  "nbformat_minor": 0,
  "metadata": {
    "colab": {
      "provenance": [],
      "authorship_tag": "ABX9TyMS9mvnWokIuoj2UeFeiHMl",
      "include_colab_link": true
    },
    "kernelspec": {
      "name": "python3",
      "display_name": "Python 3"
    },
    "language_info": {
      "name": "python"
    }
  },
  "cells": [
    {
      "cell_type": "markdown",
      "metadata": {
        "id": "view-in-github",
        "colab_type": "text"
      },
      "source": [
        "<a href=\"https://colab.research.google.com/github/kirondealex/ACC-2025-coh-homework/blob/main/Homework_1.ipynb\" target=\"_parent\"><img src=\"https://colab.research.google.com/assets/colab-badge.svg\" alt=\"Open In Colab\"/></a>"
      ]
    },
    {
      "cell_type": "code",
      "execution_count": 3,
      "metadata": {
        "colab": {
          "base_uri": "https://localhost:8080/"
        },
        "id": "GW1yllYW8eHo",
        "outputId": "610b0fc2-3512-4356-927c-f9f14657122a"
      },
      "outputs": [
        {
          "output_type": "stream",
          "name": "stdout",
          "text": [
            "Popped name: marvin\n",
            "Updated list: ['alex', 'simon']\n"
          ]
        }
      ],
      "source": [
        "# 1. What is the result of name pop()\n",
        "name =['alex', 'simon', 'marvin']\n",
        "\n",
        "# Pop the last element\n",
        "popped_name = name.pop()\n",
        "\n",
        "print(\"Popped name:\", popped_name)\n",
        "print(\"Updated list:\", name)\n",
        "\n"
      ]
    },
    {
      "cell_type": "code",
      "source": [
        "# 2. Selext the last item from name\n",
        "name = ['alex', 'simon', 'marvin']\n",
        "last_item = name[-1]\n",
        "print(last_item)\n"
      ],
      "metadata": {
        "colab": {
          "base_uri": "https://localhost:8080/"
        },
        "id": "xq6kAxPU_EF5",
        "outputId": "1e2b3a63-fbb1-47eb-e4cd-67ce90aa20c0"
      },
      "execution_count": 6,
      "outputs": [
        {
          "output_type": "stream",
          "name": "stdout",
          "text": [
            "marvin\n"
          ]
        }
      ]
    },
    {
      "cell_type": "code",
      "source": [
        "# 3.Use a method to give the number of items in the list\n",
        "name =['alex', 'simon', 'marvin']\n",
        "count = len(name)\n",
        "print(count)"
      ],
      "metadata": {
        "colab": {
          "base_uri": "https://localhost:8080/"
        },
        "id": "h835IDR2DZDa",
        "outputId": "07cfe600-1a67-46d6-bf1e-1665c821b7da"
      },
      "execution_count": 7,
      "outputs": [
        {
          "output_type": "stream",
          "name": "stdout",
          "text": [
            "3\n"
          ]
        }
      ]
    },
    {
      "cell_type": "code",
      "source": [
        "# 4.Add 6 to the list\n",
        "name =['alex', 'simon', 'marvin']\n",
        "name.append(6)\n",
        "print(name)"
      ],
      "metadata": {
        "colab": {
          "base_uri": "https://localhost:8080/"
        },
        "id": "Kf69REIzDvvV",
        "outputId": "26dca662-8eb1-4ee0-9705-304ce9533d14"
      },
      "execution_count": 10,
      "outputs": [
        {
          "output_type": "stream",
          "name": "stdout",
          "text": [
            "['alex', 'simon', 'marvin', 6]\n"
          ]
        }
      ]
    },
    {
      "cell_type": "code",
      "source": [
        "# 5. Add 'first' at the beginning of the list\n",
        "name =['alex', 'simon', 'marvin', 6]\n",
        "name.insert(0, 'first')\n",
        "print(name)"
      ],
      "metadata": {
        "colab": {
          "base_uri": "https://localhost:8080/"
        },
        "id": "d54vsvEKEuxe",
        "outputId": "46285bb2-ea01-42c2-b34d-f313c4962475"
      },
      "execution_count": 9,
      "outputs": [
        {
          "output_type": "stream",
          "name": "stdout",
          "text": [
            "['first', 'alex', 'simon', 'marvin', 6]\n"
          ]
        }
      ]
    },
    {
      "cell_type": "code",
      "source": [],
      "metadata": {
        "id": "2XaJ5PCIEu00"
      },
      "execution_count": null,
      "outputs": []
    }
  ]
}